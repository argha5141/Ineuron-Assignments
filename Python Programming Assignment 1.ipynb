{
 "cells": [
  {
   "cell_type": "code",
   "execution_count": 1,
   "id": "bd9b15c8",
   "metadata": {},
   "outputs": [
    {
     "name": "stdout",
     "output_type": "stream",
     "text": [
      "Hello Python\n"
     ]
    }
   ],
   "source": [
    "#1. Write a Python program to print \"Hello Python\"?\n",
    "a= \"Hello Python\"\n",
    "print(a)"
   ]
  },
  {
   "cell_type": "code",
   "execution_count": 2,
   "id": "87010f8f",
   "metadata": {},
   "outputs": [
    {
     "name": "stdout",
     "output_type": "stream",
     "text": [
      "Enter the first number:54\n",
      "Enter the second number:9\n",
      "The addition of both the numbers are: 63\n",
      "The division of both the numbers are: 6.0\n"
     ]
    }
   ],
   "source": [
    "#2. Write a Python program to do arithmetical operations addition and division.?\n",
    "a=int(input(\"Enter the first number:\"))\n",
    "b=int(input(\"Enter the second number:\"))\n",
    "c= a+b\n",
    "d= a/b\n",
    "print(\"The addition of both the numbers are:\", c)\n",
    "print(\"The division of both the numbers are:\", d)"
   ]
  },
  {
   "cell_type": "code",
   "execution_count": 3,
   "id": "c0b780af",
   "metadata": {},
   "outputs": [
    {
     "name": "stdout",
     "output_type": "stream",
     "text": [
      "Enter the base of the traingle:25\n",
      "Enter the height of the traingle:7\n",
      "The area of the traingle is: 87.5\n"
     ]
    }
   ],
   "source": [
    "#3. Write a Python program to find the area of a triangle?\n",
    "b=int(input(\"Enter the base of the traingle:\"))\n",
    "h=int(input(\"Enter the height of the traingle:\"))\n",
    "area= (b*h)/2\n",
    "print(\"The area of the traingle is:\", area)"
   ]
  },
  {
   "cell_type": "code",
   "execution_count": 4,
   "id": "d531929b",
   "metadata": {},
   "outputs": [
    {
     "name": "stdout",
     "output_type": "stream",
     "text": [
      "Enter the value of a:10\n",
      "Enter the value of b:54\n",
      "The value of a after swapping is: 54\n",
      "The value of b after swapping is: 10\n"
     ]
    }
   ],
   "source": [
    "#4. Write a Python program to swap two variables?\n",
    "a=int(input(\"Enter the value of a:\"))\n",
    "b=int(input(\"Enter the value of b:\"))\n",
    "a,b=b,a\n",
    "print(\"The value of a after swapping is:\", a)\n",
    "print(\"The value of b after swapping is:\", b)"
   ]
  },
  {
   "cell_type": "code",
   "execution_count": 5,
   "id": "adc2be5e",
   "metadata": {},
   "outputs": [
    {
     "name": "stdout",
     "output_type": "stream",
     "text": [
      "4\n"
     ]
    }
   ],
   "source": [
    "#5. Write a Python program to generate a random number?\n",
    "import random as rd\n",
    "number= rd.randint(0,100)\n",
    "print (number)"
   ]
  },
  {
   "cell_type": "code",
   "execution_count": null,
   "id": "bbd19ff2",
   "metadata": {},
   "outputs": [],
   "source": []
  }
 ],
 "metadata": {
  "kernelspec": {
   "display_name": "Python 3 (ipykernel)",
   "language": "python",
   "name": "python3"
  },
  "language_info": {
   "codemirror_mode": {
    "name": "ipython",
    "version": 3
   },
   "file_extension": ".py",
   "mimetype": "text/x-python",
   "name": "python",
   "nbconvert_exporter": "python",
   "pygments_lexer": "ipython3",
   "version": "3.9.7"
  }
 },
 "nbformat": 4,
 "nbformat_minor": 5
}
